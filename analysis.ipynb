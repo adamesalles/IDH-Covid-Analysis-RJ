{
 "cells": [
  {
   "cell_type": "code",
   "execution_count": null,
   "metadata": {},
   "outputs": [],
   "source": [
    "import pandas as pd\n",
    "import geopandas as gpd\n",
    "# from jupyterthemes import jtplot\n",
    "import matplotlib.pyplot as plt\n",
    "import plotly.express as px\n",
    "import basedosdados as bd\n",
    "\n",
    "# jtplot.style(theme='monokai', ticks=True) (Essa maneira de usar temas também não funciona com esse tipo de função de mapa por algum motivo"
   ]
  },
  {
   "cell_type": "markdown",
   "metadata": {},
   "source": [
    "Primeiramente, vamos criar uma tabela onde cada linha contém um ID de município e a sigla do estado ao qual esse município pertence, usando como apoio uma base do pacote \"Base dos Dados\"."
   ]
  },
  {
   "cell_type": "code",
   "execution_count": null,
   "metadata": {},
   "outputs": [],
   "source": [
    "states = bd.read_sql(\n",
    "    '''\n",
    "    SELECT DISTINCT id_municipio AS id, sigla_uf\n",
    "    FROM  basedosdados.br_bd_diretorios_brasil.setor_censitario AS censo\n",
    "    GROUP BY id_municipio, sigla_uf\n",
    "    ''',\n",
    "    billing_project_id='geobr-analysis')\n",
    "\n",
    "cities = gpd.read_file(\"geojson\\\\brasil.json\", encoding='utf-8')"
   ]
  },
  {
   "cell_type": "code",
   "execution_count": null,
   "metadata": {},
   "outputs": [],
   "source": [
    "states.head()"
   ]
  },
  {
   "cell_type": "code",
   "execution_count": null,
   "metadata": {},
   "outputs": [],
   "source": [
    "cities.head()"
   ]
  },
  {
   "cell_type": "markdown",
   "metadata": {},
   "source": [
    "Agora, daremos merge dessa tabela de estados com a que contém as informações geográficas de cada município, nos permitindo filtrar os dados de geometria de um estado específico, nesse caso, o do Rio de Janeiro."
   ]
  },
  {
   "cell_type": "code",
   "execution_count": null,
   "metadata": {},
   "outputs": [],
   "source": [
    "brasil_data = pd.merge(states, cities, on='id')\n",
    "brasil_data = gpd.GeoDataFrame(brasil_data, geometry='geometry')\n",
    "\n",
    "print(brasil_data)"
   ]
  },
  {
   "cell_type": "code",
   "execution_count": null,
   "metadata": {},
   "outputs": [],
   "source": [
    "RJ_data = brasil_data[brasil_data[\"sigla_uf\"] == \"RJ\"].reset_index(drop=True)\n",
    "RJ_data = RJ_data.astype({\"id\": int})"
   ]
  },
  {
   "cell_type": "code",
   "execution_count": null,
   "metadata": {},
   "outputs": [],
   "source": [
    "covid = pd.read_csv('caso_full.csv')\n",
    "covid.rename(columns={\"city_ibge_code\": \"id\", \"last_available_confirmed_per_100k_inhabitants\": \"cases_per_100k\", \"last_available_death_rate\": \"death_rate\"}, inplace=True)\n",
    "covid = covid[covid[\"id\"] > 1000].astype({\"id\": int})\n",
    "covid_rj = covid[(covid[\"state\"] == \"RJ\") & (covid[\"date\"] == \"2021-11-17\")].reset_index(drop=True)"
   ]
  },
  {
   "cell_type": "code",
   "execution_count": null,
   "metadata": {},
   "outputs": [],
   "source": [
    "covid_rj = covid_rj[[\"id\", \"estimated_population\", \"cases_per_100k\", \"death_rate\"]]"
   ]
  },
  {
   "cell_type": "code",
   "execution_count": null,
   "metadata": {},
   "outputs": [],
   "source": [
    "RJ_fulldata = pd.merge(RJ_data, covid_rj, on='id')\n",
    "RJ_fulldata"
   ]
  },
  {
   "cell_type": "code",
   "execution_count": null,
   "metadata": {},
   "outputs": [],
   "source": [
    "fig = px.choropleth(RJ_fulldata,\n",
    "                   geojson = RJ_fulldata[\"geometry\"],\n",
    "                   locations = RJ_fulldata.index,\n",
    "                   color = \"cases_per_100k\",\n",
    "                   hover_name = \"name\",\n",
    "                   hover_data = [\"cases_per_100k\", \"death_rate\"],\n",
    "                   labels = {\n",
    "                       \"cases_per_100k\": \"Cases per 100k habitants\",\n",
    "                       \"death_rate\": \"Mortality rate\"\n",
    "                   },\n",
    "                   color_continuous_scale = \"sunsetdark\"\n",
    ")\n",
    "\n",
    "fig.update_geos(\n",
    "                projection=dict(\n",
    "                    scale=55\n",
    "                    ),\n",
    "                center = dict(\n",
    "                    lat=-22.208333,\n",
    "                    lon=-42.896388\n",
    "                    )\n",
    ")\n",
    "\n",
    "fig.show()"
   ]
  }
 ],
 "metadata": {
  "interpreter": {
   "hash": "22843572495ceb45b122a19868e42bd652d53a56dc66f5e30eaac4653be3263a"
  },
  "kernelspec": {
   "display_name": "Python 3.9.7 64-bit ('geo': conda)",
   "name": "python3"
  },
  "language_info": {
   "codemirror_mode": {
    "name": "ipython",
    "version": 3
   },
   "file_extension": ".py",
   "mimetype": "text/x-python",
   "name": "python",
   "nbconvert_exporter": "python",
   "pygments_lexer": "ipython3",
   "version": "3.9.7"
  },
  "orig_nbformat": 4
 },
 "nbformat": 4,
 "nbformat_minor": 2
}
