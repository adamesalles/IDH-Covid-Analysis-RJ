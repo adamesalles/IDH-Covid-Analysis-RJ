{
 "cells": [
  {
   "cell_type": "code",
   "execution_count": null,
   "metadata": {},
   "outputs": [],
   "source": [
    "import pandas as pd\n",
    "import geopandas as gpd\n",
    "import matplotlib.pyplot as plt\n",
    "import plotly.express as px\n",
    "import plotly.io as pio\n",
    "import basedosdados as bd\n",
    "import sqlite3 as sqlite\n",
    "\n",
    "pio.renderers.default='notebook'\n"
   ]
  },
  {
   "cell_type": "markdown",
   "metadata": {},
   "source": [
    "Primeiramente, vamos ler nosso banco de dados que contém os dados da geografia, e criar uma tabela onde cada linha contém um ID de município e a sigla do estado ao qual esse município pertence, usando como apoio uma base do pacote \"Base dos Dados\"."
   ]
  },
  {
   "cell_type": "code",
   "execution_count": null,
   "metadata": {},
   "outputs": [],
   "source": [
    "states = bd.read_sql(\n",
    "    '''\n",
    "    SELECT DISTINCT id_municipio AS id, sigla_uf\n",
    "    FROM  basedosdados.br_bd_diretorios_brasil.setor_censitario AS censo\n",
    "    GROUP BY id_municipio, sigla_uf\n",
    "    ''',\n",
    "    billing_project_id='geobr-analysis')\n",
    "\n",
    "cities = gpd.read_file(\"geojson\\\\brasil.json\", encoding='utf-8')"
   ]
  },
  {
   "cell_type": "code",
   "execution_count": null,
   "metadata": {},
   "outputs": [],
   "source": [
    "states.head()"
   ]
  },
  {
   "cell_type": "code",
   "execution_count": null,
   "metadata": {},
   "outputs": [],
   "source": [
    "cities.head()"
   ]
  },
  {
   "cell_type": "markdown",
   "metadata": {},
   "source": [
    "Com essas tabelas ao nosso dispor, daremos merge dessa tabela de estados com a que contém as informações geográficas de cada município, nos permitindo filtrar os dados de geometria de um estado específico, nesse caso, o do Rio de Janeiro."
   ]
  },
  {
   "cell_type": "code",
   "execution_count": null,
   "metadata": {},
   "outputs": [],
   "source": [
    "brasil_data = pd.merge(states, cities, on='id')\n",
    "brasil_data = gpd.GeoDataFrame(brasil_data, geometry='geometry') \n",
    "\n",
    "brasil_data.head()"
   ]
  },
  {
   "cell_type": "markdown",
   "metadata": {},
   "source": [
    "Filtrando apenas para municípios do Rio, temos:"
   ]
  },
  {
   "cell_type": "code",
   "execution_count": null,
   "metadata": {},
   "outputs": [],
   "source": [
    "RJ_data = brasil_data[brasil_data[\"sigla_uf\"] == \"RJ\"].reset_index(drop=True)\n",
    "RJ_data = RJ_data.astype({\"id\": int})"
   ]
  },
  {
   "cell_type": "markdown",
   "metadata": {},
   "source": [
    "Temos que ler, agora, os dados relacionados à Covid. Esses dados foram retirados do site https://brasil.io/dataset/covid19/caso_full/ ."
   ]
  },
  {
   "cell_type": "code",
   "execution_count": null,
   "metadata": {},
   "outputs": [],
   "source": [
    "covid = pd.read_csv('caso_full.csv.gz', compression='gzip')\n",
    "covid.rename(columns={\"city_ibge_code\": \"id\", \"last_available_confirmed_per_100k_inhabitants\": \"cases_per_100k\", \"last_available_death_rate\": \"death_rate\"}, inplace=True)\n",
    "covid = covid[covid[\"id\"] > 1000].astype({\"id\": int}) # Limpando a base que continha linhas com IDs inexistentes\n",
    "\n",
    "covid_rj = covid[(covid[\"state\"] == \"RJ\")].reset_index(drop=True)\n",
    "covid_rj = covid_rj[covid_rj[\"date\"].str[-2:] == \"01\"] # Pegando apenas primeiro dia de cada mês\n",
    "covid_rj = covid_rj[[\"id\", \"estimated_population\", \"cases_per_100k\", \"death_rate\", \"date\"]] # Pegando apenas colunas relevantes"
   ]
  },
  {
   "cell_type": "code",
   "execution_count": null,
   "metadata": {},
   "outputs": [],
   "source": [
    "covid.head()"
   ]
  },
  {
   "cell_type": "markdown",
   "metadata": {},
   "source": [
    "Novamente, com as tabelas prontas, basta dar merge e prepará-la para análises:"
   ]
  },
  {
   "cell_type": "code",
   "execution_count": null,
   "metadata": {},
   "outputs": [],
   "source": [
    "RJ_fulldata = pd.merge(RJ_data, covid_rj, on='id')\n",
    "RJ_fulldata.sort_values(by = \"date\", inplace=True)\n",
    "RJ_fulldata[\"date\"] = RJ_fulldata[\"date\"].astype('str')"
   ]
  },
  {
   "cell_type": "markdown",
   "metadata": {},
   "source": [
    "Vamos, primeiramente, obter uma visão geral do panorama da pandemia "
   ]
  },
  {
   "cell_type": "code",
   "execution_count": null,
   "metadata": {},
   "outputs": [],
   "source": [
    "fig = px.choropleth(RJ_fulldata,\n",
    "                   geojson = RJ_fulldata[\"geometry\"],\n",
    "                   locations = RJ_fulldata.index,\n",
    "                   color = \"death_rate\",\n",
    "                   hover_name = \"name\",\n",
    "                   hover_data = [\"cases_per_100k\", \"death_rate\", \"estimated_population\"],\n",
    "                   labels = {\n",
    "                       \"cases_per_100k\": \"Cases per 100k habitants\",\n",
    "                       \"death_rate\": \"Mortality rate\",\n",
    "                       \"estimated_population\": \"Estimated population\"\n",
    "                   },\n",
    "                   color_continuous_scale = \"sunsetdark\",\n",
    "                   range_color=(0, 0.25),\n",
    "                   animation_frame = 'date',\n",
    ")\n",
    "\n",
    "fig.update_geos( # Centralizando o mapa no RJ\n",
    "                projection=dict(\n",
    "                    scale=55\n",
    "                    ),\n",
    "                center = dict(\n",
    "                    lat=-22.208333,\n",
    "                    lon=-42.896388\n",
    "                    )\n",
    ")\n",
    "\n",
    "fig.update_layout(\n",
    "    title_text = \"Taxa de mortalidade da Covid-19 ao longo dos meses de pandemia, por município\",\n",
    "    margin={\"r\":0,\"t\":10,\"l\":0,\"b\":10}\n",
    ")\n",
    "\n",
    "fig.show(renderer='notebook_connected')"
   ]
  }
 ],
 "metadata": {
  "interpreter": {
   "hash": "22843572495ceb45b122a19868e42bd652d53a56dc66f5e30eaac4653be3263a"
  },
  "kernelspec": {
   "display_name": "Python 3.9.7 64-bit ('geo': conda)",
   "name": "python3"
  },
  "language_info": {
   "codemirror_mode": {
    "name": "ipython",
    "version": 3
   },
   "file_extension": ".py",
   "mimetype": "text/x-python",
   "name": "python",
   "nbconvert_exporter": "python",
   "pygments_lexer": "ipython3",
   "version": "3.9.7"
  },
  "orig_nbformat": 4
 },
 "nbformat": 4,
 "nbformat_minor": 2
}
