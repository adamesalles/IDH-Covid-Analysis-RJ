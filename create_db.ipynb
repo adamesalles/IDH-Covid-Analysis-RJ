{
 "cells": [
  {
   "cell_type": "code",
   "execution_count": 78,
   "metadata": {},
   "outputs": [],
   "source": [
    "import pandas as pd\n",
    "import geopandas as gpd\n",
    "import sqlite3\n",
    "import spatialite\n",
    "from shapely import wkt"
   ]
  },
  {
   "cell_type": "code",
   "execution_count": 88,
   "metadata": {},
   "outputs": [
    {
     "name": "stderr",
     "output_type": "stream",
     "text": [
      "D:\\miniconda3\\envs\\bd2\\lib\\site-packages\\geopandas\\geodataframe.py:1350: UserWarning: Geometry column does not contain geometry.\n",
      "  warnings.warn(\"Geometry column does not contain geometry.\")\n"
     ]
    },
    {
     "data": {
      "text/html": [
       "<div>\n",
       "<style scoped>\n",
       "    .dataframe tbody tr th:only-of-type {\n",
       "        vertical-align: middle;\n",
       "    }\n",
       "\n",
       "    .dataframe tbody tr th {\n",
       "        vertical-align: top;\n",
       "    }\n",
       "\n",
       "    .dataframe thead th {\n",
       "        text-align: right;\n",
       "    }\n",
       "</style>\n",
       "<table border=\"1\" class=\"dataframe\">\n",
       "  <thead>\n",
       "    <tr style=\"text-align: right;\">\n",
       "      <th></th>\n",
       "      <th>id</th>\n",
       "      <th>name</th>\n",
       "      <th>geometry</th>\n",
       "    </tr>\n",
       "  </thead>\n",
       "  <tbody>\n",
       "    <tr>\n",
       "      <th>0</th>\n",
       "      <td>1100015</td>\n",
       "      <td>Alta Floresta D'Oeste</td>\n",
       "      <td>POLYGON ((-62.1820888569999966 -11.86685978779...</td>\n",
       "    </tr>\n",
       "    <tr>\n",
       "      <th>1</th>\n",
       "      <td>1100023</td>\n",
       "      <td>Ariquemes</td>\n",
       "      <td>POLYGON ((-62.5359497334000025 -9.731823527199...</td>\n",
       "    </tr>\n",
       "    <tr>\n",
       "      <th>2</th>\n",
       "      <td>1100031</td>\n",
       "      <td>Cabixi</td>\n",
       "      <td>POLYGON ((-60.3993982596999999 -13.45584182760...</td>\n",
       "    </tr>\n",
       "    <tr>\n",
       "      <th>3</th>\n",
       "      <td>1100049</td>\n",
       "      <td>Cacoal</td>\n",
       "      <td>POLYGON ((-61.0005091458999971 -11.39796015469...</td>\n",
       "    </tr>\n",
       "    <tr>\n",
       "      <th>4</th>\n",
       "      <td>1100056</td>\n",
       "      <td>Cerejeiras</td>\n",
       "      <td>POLYGON ((-61.5004673574999998 -13.00392326040...</td>\n",
       "    </tr>\n",
       "    <tr>\n",
       "      <th>...</th>\n",
       "      <td>...</td>\n",
       "      <td>...</td>\n",
       "      <td>...</td>\n",
       "    </tr>\n",
       "    <tr>\n",
       "      <th>5559</th>\n",
       "      <td>5222005</td>\n",
       "      <td>Vianópolis</td>\n",
       "      <td>POLYGON ((-48.4312481047999981 -16.62754663049...</td>\n",
       "    </tr>\n",
       "    <tr>\n",
       "      <th>5560</th>\n",
       "      <td>5222054</td>\n",
       "      <td>Vicentinópolis</td>\n",
       "      <td>POLYGON ((-49.8500478799999982 -17.57682406609...</td>\n",
       "    </tr>\n",
       "    <tr>\n",
       "      <th>5561</th>\n",
       "      <td>5222203</td>\n",
       "      <td>Vila Boa</td>\n",
       "      <td>POLYGON ((-47.1101851052000029 -14.67149996540...</td>\n",
       "    </tr>\n",
       "    <tr>\n",
       "      <th>5562</th>\n",
       "      <td>5222302</td>\n",
       "      <td>Vila Propício</td>\n",
       "      <td>POLYGON ((-48.7512448486000025 -14.90460640360...</td>\n",
       "    </tr>\n",
       "    <tr>\n",
       "      <th>5563</th>\n",
       "      <td>5300108</td>\n",
       "      <td>Brasília</td>\n",
       "      <td>POLYGON ((-47.4139605284999988 -15.54772992220...</td>\n",
       "    </tr>\n",
       "  </tbody>\n",
       "</table>\n",
       "<p>5564 rows × 3 columns</p>\n",
       "</div>"
      ],
      "text/plain": [
       "           id                   name  \\\n",
       "0     1100015  Alta Floresta D'Oeste   \n",
       "1     1100023              Ariquemes   \n",
       "2     1100031                 Cabixi   \n",
       "3     1100049                 Cacoal   \n",
       "4     1100056             Cerejeiras   \n",
       "...       ...                    ...   \n",
       "5559  5222005             Vianópolis   \n",
       "5560  5222054         Vicentinópolis   \n",
       "5561  5222203               Vila Boa   \n",
       "5562  5222302          Vila Propício   \n",
       "5563  5300108               Brasília   \n",
       "\n",
       "                                               geometry  \n",
       "0     POLYGON ((-62.1820888569999966 -11.86685978779...  \n",
       "1     POLYGON ((-62.5359497334000025 -9.731823527199...  \n",
       "2     POLYGON ((-60.3993982596999999 -13.45584182760...  \n",
       "3     POLYGON ((-61.0005091458999971 -11.39796015469...  \n",
       "4     POLYGON ((-61.5004673574999998 -13.00392326040...  \n",
       "...                                                 ...  \n",
       "5559  POLYGON ((-48.4312481047999981 -16.62754663049...  \n",
       "5560  POLYGON ((-49.8500478799999982 -17.57682406609...  \n",
       "5561  POLYGON ((-47.1101851052000029 -14.67149996540...  \n",
       "5562  POLYGON ((-48.7512448486000025 -14.90460640360...  \n",
       "5563  POLYGON ((-47.4139605284999988 -15.54772992220...  \n",
       "\n",
       "[5564 rows x 3 columns]"
      ]
     },
     "execution_count": 88,
     "metadata": {},
     "output_type": "execute_result"
    }
   ],
   "source": [
    "df = gpd.read_file(r'geojson\\brasil.json')\n",
    "df = df.drop(['description'], axis=1)\n",
    "df['geometry'] = df['geometry'].apply(wkt.dumps)\n",
    "df"
   ]
  },
  {
   "cell_type": "code",
   "execution_count": 68,
   "metadata": {},
   "outputs": [
    {
     "data": {
      "text/plain": [
       "<sqlite3.Cursor at 0x2ae9079c650>"
      ]
     },
     "execution_count": 68,
     "metadata": {},
     "output_type": "execute_result"
    }
   ],
   "source": [
    "# Criando/conectando database\n",
    "conn = sqlite3.connect('citiesXD.db')\n",
    "c = conn.cursor()\n",
    "c.execute('SELECT load_extension(\"mod_spatialite.dll\")')\n",
    "c.execute('SELECT InitSpatialMetaData()')"
   ]
  },
  {
   "cell_type": "code",
   "execution_count": 90,
   "metadata": {},
   "outputs": [],
   "source": [
    "c.execute('create table cities (id integer primary key, name text)')\n",
    "c.execute(\"SELECT AddGeometryColumn('cities', 'geometry', 4326, 'POLYGON', 'XY');\")\n",
    "c.execute(\"SELECT CreateSpatialIndex('cities', 'geometry');\")\n",
    "conn.commit()"
   ]
  },
  {
   "cell_type": "code",
   "execution_count": 91,
   "metadata": {},
   "outputs": [
    {
     "data": {
      "text/plain": [
       "[(0, 'id', 'integer', 0, None, 1),\n",
       " (1, 'name', 'text', 0, None, 0),\n",
       " (2, 'geometry', 'POLYGON', 0, None, 0)]"
      ]
     },
     "execution_count": 91,
     "metadata": {},
     "output_type": "execute_result"
    }
   ],
   "source": [
    "c.execute('pragma table_info(cities)')\n",
    "c.fetchall()"
   ]
  },
  {
   "cell_type": "code",
   "execution_count": 86,
   "metadata": {},
   "outputs": [
    {
     "data": {
      "text/plain": [
       "[('cities', 'geometry', 3, 2, 4326, 1)]"
      ]
     },
     "execution_count": 86,
     "metadata": {},
     "output_type": "execute_result"
    }
   ],
   "source": [
    "c.execute(\"SELECT * FROM geometry_columns WHERE f_table_name LIKE 'cities'\")\n",
    "c.fetchall()"
   ]
  },
  {
   "cell_type": "code",
   "execution_count": 92,
   "metadata": {},
   "outputs": [],
   "source": [
    "df.to_sql('cities', conn, if_exists='replace',index=False)"
   ]
  },
  {
   "cell_type": "code",
   "execution_count": 89,
   "metadata": {},
   "outputs": [],
   "source": [
    "c.execute('DROP TABLE cities')\n",
    "conn.commit()"
   ]
  },
  {
   "cell_type": "code",
   "execution_count": 93,
   "metadata": {},
   "outputs": [],
   "source": [
    "#Fechando conexão\n",
    "c.close()\n",
    "conn.close()"
   ]
  }
 ],
 "metadata": {
  "interpreter": {
   "hash": "5039c6f7ed1dbbba1e233e1765becf5d165802e8f1588825e9444174fbca5fcb"
  },
  "kernelspec": {
   "display_name": "Python 3.9.7 64-bit (conda)",
   "name": "python3"
  },
  "language_info": {
   "codemirror_mode": {
    "name": "ipython",
    "version": 3
   },
   "file_extension": ".py",
   "mimetype": "text/x-python",
   "name": "python",
   "nbconvert_exporter": "python",
   "pygments_lexer": "ipython3",
   "version": "3.9.7"
  },
  "orig_nbformat": 4
 },
 "nbformat": 4,
 "nbformat_minor": 2
}
