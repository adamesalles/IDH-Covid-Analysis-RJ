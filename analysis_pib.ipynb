{
 "cells": [
  {
   "cell_type": "markdown",
   "metadata": {},
   "source": [
    "Análise da relação entre índices de PIB per capita e incidência do Covid-19 no estado do Rio de Janeiro"
   ]
  },
  {
   "cell_type": "code",
   "execution_count": null,
   "metadata": {},
   "outputs": [],
   "source": [
    "#Parte comum:\n",
    "\n",
    "import pandas as pd\n",
    "import geopandas as gpd\n",
    "# from jupyterthemes import jtplot\n",
    "import matplotlib.pyplot as plt\n",
    "import plotly.express as px\n",
    "import plotly.subplots as ps\n",
    "import basedosdados as bd\n",
    "\n",
    "\n",
    "states = bd.read_sql(\n",
    "    '''\n",
    "    SELECT DISTINCT id_municipio AS id, sigla_uf\n",
    "    FROM  basedosdados.br_bd_diretorios_brasil.setor_censitario AS censo\n",
    "    GROUP BY id_municipio, sigla_uf\n",
    "    ''',\n",
    "    billing_project_id='geobr-analysis')\n",
    "\n",
    "cities = gpd.read_file(\"geojson\\\\brasil.json\", encoding='utf-8')\n",
    "\n",
    "brasil_data = pd.merge(states, cities, on='id')\n",
    "brasil_data = gpd.GeoDataFrame(brasil_data, geometry='geometry')\n",
    "\n",
    "RJ_data = brasil_data[brasil_data[\"sigla_uf\"] == \"RJ\"].reset_index(drop=True)\n",
    "RJ_data = RJ_data.astype({\"id\": int})\n",
    "\n",
    "covid = pd.read_csv('caso_full.csv.gz', compression = 'gzip')\n",
    "covid.rename(columns={\"city_ibge_code\": \"id\", \"last_available_confirmed_per_100k_inhabitants\": \"cases_per_100k\", \"last_available_death_rate\": \"death_rate\"}, inplace=True)\n",
    "covid = covid[covid[\"id\"] > 1000].astype({\"id\": int})\n",
    "covid_rj = covid[(covid[\"state\"] == \"RJ\") & (covid[\"date\"] == \"2021-11-17\")].reset_index(drop=True)\n",
    "\n",
    "covid_rj = covid_rj[[\"id\", \"estimated_population\", \"cases_per_100k\", \"death_rate\"]]\n",
    "\n",
    "RJ_fulldata = pd.merge(RJ_data, covid_rj, on='id')\n"
   ]
  },
  {
   "cell_type": "code",
   "execution_count": null,
   "metadata": {},
   "outputs": [],
   "source": [
    "#Base de dados IBGE - PIB\n",
    "\n",
    "pib = bd.read_sql(\n",
    "    '''\n",
    "    SELECT id_municipio as id, pib, ano\n",
    "    FROM `basedosdados.br_ibge_pib.municipio`\n",
    "    WHERE ano = 2018\n",
    "    ''',\n",
    "    billing_project_id='geobr-analysis')\n",
    "\n",
    "pop = bd.read_sql(\n",
    "    '''\n",
    "    SELECT id_municipio as id, populacao as pop\n",
    "    FROM `basedosdados.br_ibge_populacao.municipio`\n",
    "    WHERE ano = 2018 AND sigla_uf = 'RJ'\n",
    "    ''',\n",
    "    billing_project_id='geobr-analysis')"
   ]
  },
  {
   "cell_type": "code",
   "execution_count": null,
   "metadata": {},
   "outputs": [],
   "source": [
    "pib_data =  pib.astype({\"id\": int})\n",
    "pop_data =  pop.astype({\"id\": int})\n",
    "\n",
    "pib_data = pd.merge(pib_data, pop_data, on='id')\n",
    "\n",
    "RJ_pib = pd.merge(RJ_fulldata, pib_data, on='id')\n",
    "\n",
    "RJ_pib[\"per_capita\"] = RJ_pib[\"pib\"]/RJ_pib[\"pop\"]"
   ]
  },
  {
   "cell_type": "markdown",
   "metadata": {},
   "source": [
    "Agora, vamos plotar as informações. Na escala de cores, usaremos apenas até o valor de 100k, pois caso usássemos o maior valor outlier (200k), o mapa praticamente inteiro ficaria com cores claras demais."
   ]
  },
  {
   "cell_type": "code",
   "execution_count": null,
   "metadata": {},
   "outputs": [],
   "source": [
    "fig = px.choropleth(RJ_pib,\n",
    "                   geojson = RJ_pib[\"geometry\"],\n",
    "                   locations = RJ_pib.index,\n",
    "                   color = \"per_capita\",\n",
    "                   hover_name = \"name\",\n",
    "                   color_continuous_scale = \"Greens\",\n",
    "                   range_color=(10000, 100000)\n",
    ")\n",
    "\n",
    "fig.update_geos(\n",
    "                projection=dict(\n",
    "                    scale=55\n",
    "                    ),\n",
    "                center = dict(\n",
    "                    lat=-22.208333,\n",
    "                    lon=-42.896388\n",
    "                    )\n",
    ")\n",
    "\n",
    "fig.update_layout(\n",
    "    title_text = \"PIB per capita estimado de 2018, por município\",\n",
    "    margin={\"r\":0,\"t\":50,\"l\":0,\"b\":50}\n",
    ")\n",
    "\n",
    "fig.show()\n"
   ]
  },
  {
   "cell_type": "code",
   "execution_count": null,
   "metadata": {},
   "outputs": [],
   "source": [
    "#checar regressao linear, etc.\n",
    "\n",
    "fig = px.scatter(RJ_pib, x=\"death_rate\", y=\"per_capita\", hover_data=['name'], trendline=\"ols\", color_discrete_sequence=['green'],trendline_color_override=\"orange\")\n",
    "fig.show()"
   ]
  }
 ],
 "metadata": {
  "interpreter": {
   "hash": "abd60b26aabfab18cec367dbcad95097cae573dede1b6129e8db5084af4b4122"
  },
  "kernelspec": {
   "display_name": "Python 3.9.5 64-bit",
   "language": "python",
   "name": "python3"
  },
  "language_info": {
   "codemirror_mode": {
    "name": "ipython",
    "version": 3
   },
   "file_extension": ".py",
   "mimetype": "text/x-python",
   "name": "python",
   "nbconvert_exporter": "python",
   "pygments_lexer": "ipython3",
   "version": "3.9.7"
  },
  "orig_nbformat": 4
 },
 "nbformat": 4,
 "nbformat_minor": 2
}
