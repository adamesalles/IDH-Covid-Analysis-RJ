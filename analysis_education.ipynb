{
 "cells": [
  {
   "cell_type": "markdown",
   "metadata": {},
   "source": [
    "Análise da relação entre índices de educação e incidência do Covid-19 no estado do Rio de Janeiro"
   ]
  },
  {
   "cell_type": "code",
   "execution_count": null,
   "metadata": {},
   "outputs": [],
   "source": [
    "#Parte comum:\n",
    "\n",
    "import pandas as pd\n",
    "import geopandas as gpd\n",
    "# from jupyterthemes import jtplot\n",
    "import matplotlib.pyplot as plt\n",
    "import plotly.express as px\n",
    "import plotly.subplots as ps\n",
    "import basedosdados as bd\n",
    "\n",
    "\n",
    "states = bd.read_sql(\n",
    "    '''\n",
    "    SELECT DISTINCT id_municipio AS id, sigla_uf\n",
    "    FROM  basedosdados.br_bd_diretorios_brasil.setor_censitario AS censo\n",
    "    GROUP BY id_municipio, sigla_uf\n",
    "    ''',\n",
    "    billing_project_id='bd-geo-covid')\n",
    "\n",
    "cities = gpd.read_file(\"geojson\\\\brasil.json\", encoding='utf-8')\n",
    "\n",
    "brasil_data = pd.merge(states, cities, on='id')\n",
    "brasil_data = gpd.GeoDataFrame(brasil_data, geometry='geometry')\n",
    "\n",
    "RJ_data = brasil_data[brasil_data[\"sigla_uf\"] == \"RJ\"].reset_index(drop=True)\n",
    "RJ_data = RJ_data.astype({\"id\": int})\n",
    "\n",
    "covid = pd.read_csv('caso_full.csv.gz', compression = 'gzip')\n",
    "covid.rename(columns={\"city_ibge_code\": \"id\", \"last_available_confirmed_per_100k_inhabitants\": \"cases_per_100k\", \"last_available_death_rate\": \"death_rate\"}, inplace=True)\n",
    "covid = covid[covid[\"id\"] > 1000].astype({\"id\": int})\n",
    "covid_rj = covid[(covid[\"state\"] == \"RJ\") & (covid[\"date\"] == \"2021-11-17\")].reset_index(drop=True)\n",
    "\n",
    "covid_rj = covid_rj[[\"id\", \"estimated_population\", \"cases_per_100k\", \"death_rate\"]]\n",
    "\n",
    "RJ_fulldata = pd.merge(RJ_data, covid_rj, on='id')\n"
   ]
  },
  {
   "cell_type": "code",
   "execution_count": null,
   "metadata": {},
   "outputs": [],
   "source": [
    "fig = px.choropleth(RJ_fulldata,\n",
    "                   geojson = RJ_fulldata[\"geometry\"],\n",
    "                   locations = RJ_fulldata.index,\n",
    "                   color = \"cases_per_100k\",\n",
    "                   hover_name = \"name\",\n",
    "                   hover_data = [\"cases_per_100k\", \"death_rate\"],\n",
    "                   labels = {\n",
    "                       \"cases_per_100k\": \"Cases per 100k habitants\",\n",
    "                       \"death_rate\": \"Mortality rate\"\n",
    "                   },\n",
    "                   color_continuous_scale = \"sunsetdark\"\n",
    ")\n",
    "\n",
    "fig.update_geos(\n",
    "                projection=dict(\n",
    "                    scale=55\n",
    "                    ),\n",
    "                center = dict(\n",
    "                    lat=-22.208333,\n",
    "                    lon=-42.896388\n",
    "                    )\n",
    ")\n",
    "\n",
    "fig.show()"
   ]
  },
  {
   "cell_type": "code",
   "execution_count": null,
   "metadata": {},
   "outputs": [],
   "source": [
    "#Base de dados IDEB - Educação\n",
    "\n",
    "ideb = bd.read_sql(\n",
    "    '''\n",
    "    SELECT id_municipio AS id, sigla_uf, AVG(ideb) AS ideb , ano\n",
    "    FROM  basedosdados.br_inep_ideb.municipio\n",
    "    WHERE ano = 2019 AND rede = 'publica'\n",
    "    GROUP BY id_municipio, sigla_uf, ano\n",
    "    ''',\n",
    "    billing_project_id='bd-geo-covid')\n"
   ]
  },
  {
   "cell_type": "code",
   "execution_count": null,
   "metadata": {},
   "outputs": [],
   "source": [
    "ideb.head()"
   ]
  },
  {
   "cell_type": "code",
   "execution_count": null,
   "metadata": {},
   "outputs": [],
   "source": [
    "ideb_data =  ideb.astype({\"id\": int})\n",
    "ideb_data = ideb_data[ideb_data[\"id\"] > 1000]\n",
    "ideb_data = ideb_data[(ideb_data[\"sigla_uf\"] == \"RJ\")].reset_index(drop=True)\n",
    "\n",
    "RJ_ideb = pd.merge(RJ_data, ideb_data, on='id')\n",
    "\n",
    "RJ_ideb.head()\n",
    "\n"
   ]
  },
  {
   "cell_type": "code",
   "execution_count": null,
   "metadata": {},
   "outputs": [],
   "source": [
    "fig = px.choropleth(RJ_ideb,\n",
    "                   geojson = RJ_ideb[\"geometry\"],\n",
    "                   locations = RJ_ideb.index,\n",
    "                   color = \"ideb\",\n",
    "                   hover_name = \"name\",\n",
    "                   color_continuous_scale = \"Blues\"\n",
    ")\n",
    "\n",
    "fig.update_geos(\n",
    "                projection=dict(\n",
    "                    scale=55\n",
    "                    ),\n",
    "                center = dict(\n",
    "                    lat=-22.208333,\n",
    "                    lon=-42.896388\n",
    "                    )\n",
    ")\n",
    "\n",
    "fig.show()\n"
   ]
  },
  {
   "cell_type": "code",
   "execution_count": null,
   "metadata": {},
   "outputs": [],
   "source": [
    "#checar regressao linear, etc.\n",
    "\n",
    "covid_ideb = pd.merge(RJ_ideb, covid_rj, on='id')\n",
    "\n",
    "fig = px.scatter(covid_ideb, x=\"death_rate\", y=\"ideb\" , hover_data=['name'])\n",
    "fig.show()"
   ]
  },
  {
   "cell_type": "code",
   "execution_count": null,
   "metadata": {},
   "outputs": [],
   "source": [
    "#subplots aaaaaaaaaaa\n",
    "\n",
    "#fig = ps.make_subplots(rows=1, cols=2)\n",
    "#fig.add_trace( px.scatter(covid_ideb, x=\"death_rate\", y=\"ideb\" , hover_data=['name']))"
   ]
  },
  {
   "cell_type": "code",
   "execution_count": null,
   "metadata": {},
   "outputs": [],
   "source": [
    "idh = pd.read_csv('idh.csv')\n",
    "RJ_idh = pd.merge(RJ_data, idh, on='name')\n",
    "\n",
    "RJ_idh.head()"
   ]
  },
  {
   "cell_type": "code",
   "execution_count": null,
   "metadata": {},
   "outputs": [],
   "source": [
    "fig = px.choropleth(RJ_idh,\n",
    "                   geojson = RJ_idh[\"geometry\"],\n",
    "                   locations = RJ_idh.index,\n",
    "                   color = \"IDH\",\n",
    "                   hover_name = \"name\",\n",
    "                   color_continuous_scale = \"Reds\"\n",
    ")\n",
    "\n",
    "fig.update_geos(\n",
    "                projection=dict(\n",
    "                    scale=55\n",
    "                    ),\n",
    "                center = dict(\n",
    "                    lat=-22.208333,\n",
    "                    lon=-42.896388\n",
    "                    )\n",
    ")\n",
    "\n",
    "fig.show()\n"
   ]
  },
  {
   "cell_type": "code",
   "execution_count": null,
   "metadata": {},
   "outputs": [],
   "source": [
    "covid_idh = pd.merge(RJ_idh, covid_rj, on='id')\n",
    "\n",
    "fig = px.scatter(covid_idh, x=\"death_rate\", y=\"IDH\", hover_data=['name'], marginal_x=\"histogram\")\n",
    "fig.show()"
   ]
  },
  {
   "cell_type": "code",
   "execution_count": null,
   "metadata": {},
   "outputs": [],
   "source": []
  }
 ],
 "metadata": {
  "interpreter": {
   "hash": "abd60b26aabfab18cec367dbcad95097cae573dede1b6129e8db5084af4b4122"
  },
  "kernelspec": {
   "display_name": "Python 3.9.5 64-bit",
   "language": "python",
   "name": "python3"
  },
  "language_info": {
   "codemirror_mode": {
    "name": "ipython",
    "version": 3
   },
   "file_extension": ".py",
   "mimetype": "text/x-python",
   "name": "python",
   "nbconvert_exporter": "python",
   "pygments_lexer": "ipython3",
   "version": "3.9.7"
  },
  "orig_nbformat": 4
 },
 "nbformat": 4,
 "nbformat_minor": 2
}
